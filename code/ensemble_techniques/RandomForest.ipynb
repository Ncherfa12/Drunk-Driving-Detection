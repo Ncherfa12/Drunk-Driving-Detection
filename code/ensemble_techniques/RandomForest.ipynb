{
 "cells": [
  {
   "cell_type": "code",
   "execution_count": null,
   "metadata": {
    "colab": {
     "base_uri": "https://localhost:8080/"
    },
    "id": "_cI_91Gwrx0o",
    "outputId": "919205ba-6fb1-4244-f751-2dda87c01fdc"
   },
   "outputs": [
    {
     "name": "stdout",
     "output_type": "stream",
     "text": [
      "Drive already mounted at /content/drive; to attempt to forcibly remount, call drive.mount(\"/content/drive\", force_remount=True).\n"
     ]
    }
   ],
   "source": [
    "# Mount Google Drive (if your data is stored there; skip this if using local files)\n",
    "from google.colab import drive\n",
    "drive.mount('/content/drive')"
   ]
  },
  {
   "cell_type": "code",
   "execution_count": null,
   "metadata": {
    "id": "GnMRCgtw_ujO"
   },
   "outputs": [],
   "source": [
    "import os\n",
    "# Set the working directory (update the path based on your environment)\n",
    "# If using Google Colab with Google Drive, specify the correct path; otherwise, use a local path.\n",
    "os.chdir('/content/drive/MyDrive/Project_VTTI')  # Example for Google Colab\n",
    "# os.chdir('/path/to/your/local/directory')  # Uncomment and replace for local usage"
   ]
  },
  {
   "cell_type": "code",
   "execution_count": null,
   "metadata": {
    "id": "_eciYykbAGNQ"
   },
   "outputs": [],
   "source": [
    "import pandas as pd\n",
    "import os  # Import necessary libraries\n",
    "\n",
    "# Function to aggregate all CSV files from a given directory into a single DataFrame\n",
    "def aggregate_csvs(directory_path):\n",
    "    dataframes = []\n",
    "\n",
    "    # Traverse the directory and subdirectories to find CSV files\n",
    "    for subdir, _, files in os.walk(directory_path):\n",
    "        for file in files:\n",
    "            if file.endswith('.csv'):\n",
    "                filepath = os.path.join(subdir, file)\n",
    "                df = pd.read_csv(filepath)\n",
    "                dataframes.append(df)\n",
    "\n",
    "    # Concatenate all DataFrames into one\n",
    "    aggregated_df = pd.concat(dataframes, ignore_index=True)\n",
    "    return aggregated_df\n",
    "\n",
    "# Aggregate data for identified and unknown datasets\n",
    "identified_data = aggregate_csvs('Identified_Classifier')  # Folder for identified (split) datasets\n",
    "unknown_data = aggregate_csvs('Unknown_Classifier')        # Folder for unknown (split) datasets\n",
    "\n",
    "# Function to extract important features from the dataset\n",
    "def extract_important_features(df):\n",
    "    window_steering = 10 * 1000  # 10-second window for steering features\n",
    "    window_distance = 1 * 1000   # 1-second window for lane distance features\n",
    "\n",
    "    # Steering features\n",
    "    df['steering_stability'] = df['vtti.steering_wheel_position'].rolling(window=window_steering).std()\n",
    "\n",
    "    # Pedal features\n",
    "    df['brake_duration'] = df.groupby((df['vtti.pedal_brake_state'] != df['vtti.pedal_brake_state'].shift()).cumsum()).cumcount() * df['vtti.pedal_brake_state']\n",
    "    df['brake_event'] = df['vtti.pedal_brake_state'].diff().apply(lambda x: 1 if x == 1 else 0)\n",
    "    df['brake_frequency'] = df['brake_event'].rolling(window=window_steering).sum()\n",
    "\n",
    "    # Lateral position features\n",
    "    df['avg_abs_distance_from_center'] = df['vtti.lane_distance_off_center'].abs().rolling(window=window_distance).mean()\n",
    "    df['lateral_velocity'] = df['vtti.lane_distance_off_center'].diff()\n",
    "    df['lateral_acceleration'] = df['lateral_velocity'].diff()\n",
    "\n",
    "    return df\n",
    "\n",
    "# Apply feature extraction to both datasets\n",
    "identified_data = extract_important_features(identified_data)\n",
    "unknown_data = extract_important_features(unknown_data)\n",
    "\n",
    "# Define significant columns to keep in the final analysis\n",
    "significant_columns = [\n",
    "    'lateral_velocity', 'brake_frequency',\n",
    "    'avg_abs_distance_from_center', 'lateral_acceleration'\n",
    "]\n",
    "\n",
    "# Filter the DataFrames to include only the significant features\n",
    "identified_data = identified_data[significant_columns]\n",
    "unknown_data = unknown_data[significant_columns]\n",
    "\n"
   ]
  },
  {
   "cell_type": "code",
   "execution_count": null,
   "metadata": {
    "id": "-G0ZBXfcgVXA"
   },
   "outputs": [],
   "source": [
    "# Drop rows with any missing values in both datasets\n",
    "identified_data.dropna(inplace=True)\n",
    "unknown_data.dropna(inplace=True)\n"
   ]
  },
  {
   "cell_type": "code",
   "execution_count": null,
   "metadata": {
    "colab": {
     "base_uri": "https://localhost:8080/"
    },
    "id": "CzRG3AumAipO",
    "outputId": "aed37886-5d26-4378-99e5-3c698021f64f"
   },
   "outputs": [
    {
     "name": "stdout",
     "output_type": "stream",
     "text": [
      "(1022486, 4)\n",
      "(1069361, 4)\n"
     ]
    }
   ],
   "source": [
    "# Check the shape of both datasets to ensure they are healthy\n",
    "print(\"Identified Data Shape:\", identified_data.shape)\n",
    "print(\"Unknown Data Shape:\", unknown_data.shape)"
   ]
  },
  {
   "cell_type": "code",
   "execution_count": null,
   "metadata": {
    "colab": {
     "base_uri": "https://localhost:8080/"
    },
    "id": "3OCvXLoFireo",
    "outputId": "810c3ef2-e79f-4e9c-c81c-9267d73c1697"
   },
   "outputs": [
    {
     "name": "stdout",
     "output_type": "stream",
     "text": [
      "lateral_velocity                0\n",
      "brake_frequency                 0\n",
      "avg_abs_distance_from_center    0\n",
      "lateral_acceleration            0\n",
      "dtype: int64\n"
     ]
    }
   ],
   "source": [
    "# Check for null values in the identified dataset before proceeding\n",
    "print(identified_data[['lateral_velocity', 'brake_frequency', \n",
    "                       'avg_abs_distance_from_center', 'lateral_acceleration']].isna().sum())"
   ]
  },
  {
   "cell_type": "code",
   "execution_count": null,
   "metadata": {
    "colab": {
     "base_uri": "https://localhost:8080/"
    },
    "id": "sNnoVyQhgbSk",
    "outputId": "77728bc9-c5f4-43a1-aaef-b222bff48a5a"
   },
   "outputs": [
    {
     "name": "stdout",
     "output_type": "stream",
     "text": [
      "lateral_velocity                0\n",
      "brake_frequency                 0\n",
      "avg_abs_distance_from_center    0\n",
      "lateral_acceleration            0\n",
      "dtype: int64\n"
     ]
    }
   ],
   "source": [
    "# Check for null values in the unknown dataset before proceeding\n",
    "print(unknown_data[['lateral_velocity', 'brake_frequency', \n",
    "                    'avg_abs_distance_from_center', 'lateral_acceleration']].isna().sum())"
   ]
  },
  {
   "cell_type": "code",
   "execution_count": null,
   "metadata": {
    "colab": {
     "base_uri": "https://localhost:8080/"
    },
    "id": "1OxWJZd1gdi3",
    "outputId": "f3f0a091-109c-4bfe-9027-56a8892bd81d"
   },
   "outputs": [
    {
     "name": "stdout",
     "output_type": "stream",
     "text": [
      "       lateral_velocity  brake_frequency  avg_abs_distance_from_center  \\\n",
      "15038          0.000000             58.0                    124.497663   \n",
      "15039          0.000000             58.0                    124.490494   \n",
      "15040          0.000000             58.0                    124.488096   \n",
      "15041          0.000000             58.0                    124.485699   \n",
      "15042          0.000000             58.0                    124.483301   \n",
      "...                 ...              ...                           ...   \n",
      "15133          0.000000             58.0                    118.997795   \n",
      "15134          0.000000             58.0                    118.890905   \n",
      "15135         73.443410             58.0                    118.917091   \n",
      "15136         38.161072             58.0                    118.922848   \n",
      "15137         -0.677319             58.0                    118.927674   \n",
      "\n",
      "       lateral_acceleration  \n",
      "15038              0.000000  \n",
      "15039              0.000000  \n",
      "15040              0.000000  \n",
      "15041              0.000000  \n",
      "15042              0.000000  \n",
      "...                     ...  \n",
      "15133              0.000000  \n",
      "15134              0.000000  \n",
      "15135             73.443410  \n",
      "15136            -35.282338  \n",
      "15137            -38.838391  \n",
      "\n",
      "[100 rows x 4 columns]\n"
     ]
    }
   ],
   "source": [
    "# Preview the first 100 rows of the identified dataset to check for a healthy shape\n",
    "print(identified_data.head(100))"
   ]
  },
  {
   "cell_type": "code",
   "execution_count": null,
   "metadata": {
    "colab": {
     "base_uri": "https://localhost:8080/"
    },
    "id": "QPeINtQKgf_p",
    "outputId": "f15f0243-47a8-4f1c-c469-b81b67e9ab3e"
   },
   "outputs": [
    {
     "name": "stdout",
     "output_type": "stream",
     "text": [
      "        lateral_velocity  brake_frequency  avg_abs_distance_from_center  \\\n",
      "10433           0.000000              1.0                      8.499999   \n",
      "10434           0.000000              1.0                      8.499999   \n",
      "10435           0.000000              1.0                      8.499999   \n",
      "10436           0.000000              1.0                      8.499999   \n",
      "10437           0.000000              1.0                      8.499999   \n",
      "...                  ...              ...                           ...   \n",
      "294583          3.894670              0.0                     30.364727   \n",
      "294584          4.233342              0.0                     30.392145   \n",
      "294585         -1.550535              0.0                     30.418520   \n",
      "294586          9.001236              0.0                     30.452966   \n",
      "294587         11.937995              0.0                     30.500365   \n",
      "\n",
      "        lateral_acceleration  \n",
      "10433               0.000000  \n",
      "10434               0.000000  \n",
      "10435               0.000000  \n",
      "10436               0.000000  \n",
      "10437               0.000000  \n",
      "...                      ...  \n",
      "294583              3.302014  \n",
      "294584              0.338672  \n",
      "294585             -5.783877  \n",
      "294586             10.551771  \n",
      "294587              2.936759  \n",
      "\n",
      "[100000 rows x 4 columns]\n"
     ]
    }
   ],
   "source": [
    "# Preview the first 100,000 rows of the unknown dataset to check for a healthy shape\n",
    "print(unknown_data.head(100000))"
   ]
  },
  {
   "cell_type": "code",
   "execution_count": null,
   "metadata": {
    "colab": {
     "base_uri": "https://localhost:8080/"
    },
    "id": "xkpwXNVmVrqA",
    "outputId": "baebc447-d589-48de-8c22-5a4d1cfc8831"
   },
   "outputs": [
    {
     "data": {
      "text/plain": [
       "['y_test_rf.pkl']"
      ]
     },
     "execution_count": 12,
     "metadata": {},
     "output_type": "execute_result"
    }
   ],
   "source": [
    "# Random Forest Model Preparation\n",
    "import joblib\n",
    "from sklearn.model_selection import train_test_split\n",
    "\n",
    "# Avoid unnecessary warnings by copying the datasets\n",
    "identified_data = identified_data.copy()\n",
    "unknown_data = unknown_data.copy()\n",
    "# Create target labels for identified (1) and unknown (0) datasets\n",
    "identified_data['target'] = 1\n",
    "unknown_data['target'] = 0\n",
    "# Combine the datasets\n",
    "combined_data = pd.concat([identified_data, unknown_data], ignore_index=True)\n",
    "# Handle missing values by filling with 0\n",
    "combined_data.fillna(0, inplace=True)\n",
    "# Split the data into features (X) and target (y)\n",
    "X = combined_data.drop('target', axis=1)\n",
    "y = combined_data['target']\n",
    "# Train-test split (80% training, 20% testing)\n",
    "X_train_rf, X_test_rf, y_train_rf, y_test_rf = train_test_split(X, y, test_size=0.2, random_state=42)\n",
    "# Save the test data for future use\n",
    "joblib.dump(X_test_rf, 'X_test_rf.pkl')\n",
    "joblib.dump(y_test_rf, 'y_test_rf.pkl')"
   ]
  },
  {
   "cell_type": "code",
   "execution_count": null,
   "metadata": {
    "colab": {
     "base_uri": "https://localhost:8080/"
    },
    "id": "0B-MogCuiuqw",
    "outputId": "f22a1e27-d07b-4fc9-c3ab-a7886faf6a44"
   },
   "outputs": [
    {
     "name": "stdout",
     "output_type": "stream",
     "text": [
      "Training Accuracy is: 0.9936832116605128\n",
      "Test Accuracy is: 0.8201448478619404\n",
      "\n",
      "Classification Report for Test Data:\n",
      "               precision    recall  f1-score   support\n",
      "\n",
      "           0       0.81      0.84      0.83    213831\n",
      "           1       0.83      0.80      0.81    204539\n",
      "\n",
      "    accuracy                           0.82    418370\n",
      "   macro avg       0.82      0.82      0.82    418370\n",
      "weighted avg       0.82      0.82      0.82    418370\n",
      "\n"
     ]
    }
   ],
   "source": [
    "# Training the Random Forest model using 1 million rows per class (identified and unknown)\n",
    "from sklearn.ensemble import RandomForestClassifier\n",
    "from sklearn.metrics import accuracy_score, classification_report\n",
    "\n",
    "# Initialize the Random Forest classifier\n",
    "rf_model = RandomForestClassifier(n_estimators=100, random_state=5)\n",
    "# Train the model\n",
    "rf_model.fit(X_train_rf, y_train_rf)\n",
    "# Make predictions on training and test data\n",
    "y_pred_train_rf = rf_model.predict(X_train_rf)\n",
    "y_pred_test_rf = rf_model.predict(X_test_rf)\n",
    "# Evaluate the model performance\n",
    "print(\"Training Accuracy:\", accuracy_score(y_train_rf, y_pred_train_rf))\n",
    "print(\"Test Accuracy:\", accuracy_score(y_test_rf, y_pred_test_rf))\n",
    "# Display the classification report for test data\n",
    "print(\"\\nClassification Report (1 = Identified, 0 = Unknown):\\n\", classification_report(y_test_rf, y_pred_test_rf))"
   ]
  },
  {
   "cell_type": "code",
   "execution_count": null,
   "metadata": {
    "colab": {
     "base_uri": "https://localhost:8080/",
     "height": 619
    },
    "id": "ohIxMb1qNw0_",
    "outputId": "b717a7ab-639a-46d3-84ad-7ab7573bc571"
   },
   "outputs": [
    {
     "data": {
      "image/png": "[encoded data removed]",
      "text/plain": [
       "<Figure size 1000x700 with 2 Axes>"
      ]
     },
     "metadata": {},
     "output_type": "display_data"
    }
   ],
   "source": [
    "import numpy as np\n",
    "import matplotlib.pyplot as plt\n",
    "import seaborn as sns\n",
    "from sklearn.metrics import confusion_matrix\n",
    "\n",
    "# Generate the confusion matrix\n",
    "cm = confusion_matrix(y_test_rf, y_pred_test_rf)\n",
    "# Plot the confusion matrix\n",
    "plt.figure(figsize=(10, 7))\n",
    "sns.heatmap(cm, annot=True, fmt='g', cmap='Blues', cbar=False)\n",
    "plt.title(\"Confusion Matrix\")\n",
    "plt.xlabel(\"Predicted Labels\")\n",
    "plt.ylabel(\"Actual Labels\")\n",
    "plt.show()\n"
   ]
  },
  {
   "cell_type": "code",
   "execution_count": null,
   "metadata": {
    "colab": {
     "base_uri": "https://localhost:8080/"
    },
    "id": "tgCFa-szN0zS",
    "outputId": "c4624186-59ff-4073-d8e7-104d63ee723c"
   },
   "outputs": [
    {
     "name": "stdout",
     "output_type": "stream",
     "text": [
      "Features ranking:\n",
      "1. feature avg_abs_distance_from_center (0.463093)\n",
      "2. feature brake_frequency (0.237588)\n",
      "3. feature lateral_acceleration (0.151131)\n",
      "4. feature lateral_velocity (0.148187)\n"
     ]
    }
   ],
   "source": [
    "# Calculate feature importances from the trained Random Forest model\n",
    "importances = rf_model.feature_importances_\n",
    "features = X.columns\n",
    "indices = np.argsort(importances)[::-1]\n",
    "# Display the feature ranking\n",
    "print(\"Feature Ranking:\")\n",
    "for i in range(X.shape[1]):\n",
    "    print(f\"{i + 1}. Feature: {features[indices[i]]} (Importance Score: {importances[indices[i]]:.6f})\")"
   ]
  },
  {
   "cell_type": "code",
   "execution_count": null,
   "metadata": {
    "colab": {
     "base_uri": "https://localhost:8080/"
    },
    "id": "Ooop2HCUO_71",
    "outputId": "c629a86b-9b68-4dad-8ad8-651c6e1d35ef"
   },
   "outputs": [
    {
     "data": {
      "text/plain": [
       "['sf_final_model.pkl']"
      ]
     },
     "execution_count": 16,
     "metadata": {},
     "output_type": "execute_result"
    }
   ],
   "source": [
    "import joblib  # Import joblib for model saving\n",
    "# Save the trained Random Forest model to a file (only run if you want to save the model)\n",
    "joblib.dump(rf_model, 'rf_model.pkl')"
   ]
  },
  {
   "cell_type": "code",
   "execution_count": null,
   "metadata": {
    "colab": {
     "base_uri": "https://localhost:8080/",
     "height": 979
    },
    "id": "shABogq5MC2v",
    "outputId": "cd13bd43-cf7e-4160-a374-b852839c3835"
   },
   "outputs": [
    {
     "data": {
      "image/png": "[encoded data removed]",
      "text/plain": [
       "<Figure size 640x480 with 1 Axes>"
      ]
     },
     "metadata": {},
     "output_type": "display_data"
    },
    {
     "data": {
      "image/png": "[encoded data removed]",
      "text/plain": [
       "<Figure size 640x480 with 1 Axes>"
      ]
     },
     "metadata": {},
     "output_type": "display_data"
    },
    {
     "name": "stdout",
     "output_type": "stream",
     "text": [
      "Log Loss: 0.4343598625017414\n",
      "Cohen's Kappa is: 0.6398712375846103\n",
      "Matthews Correlation Coefficient is: 0.6401621168382002\n"
     ]
    }
   ],
   "source": [
    "import joblib  # Re-import in case the notebook was not run sequentially\n",
    "import matplotlib.pyplot as plt\n",
    "from sklearn.metrics import (\n",
    "    roc_curve, auc, precision_recall_curve,\n",
    "    average_precision_score, log_loss,\n",
    "    cohen_kappa_score, matthews_corrcoef\n",
    ")\n",
    "# Load the trained Random Forest model (if not already loaded)\n",
    "rf_model = joblib.load('rf_model.pkl')\n",
    "# Ensure that X_test and y_test are loaded; rerun previous cells if needed\n",
    "y_prob_rf = rf_model.predict_proba(X_test_rf)[:, 1]\n",
    "y_pred_rf = rf_model.predict(X_test_rf)\n",
    "# Plot Precision-Recall Curve\n",
    "precision, recall, _ = precision_recall_curve(y_test_rf, y_prob_rf)\n",
    "average_precision = average_precision_score(y_test_rf, y_prob_rf)\n",
    "plt.figure()\n",
    "plt.plot(recall, precision, label=f'PR Curve (AP = {average_precision:.2f})')\n",
    "plt.xlabel('Recall')\n",
    "plt.ylabel('Precision')\n",
    "plt.title('Precision-Recall Curve')\n",
    "plt.legend(loc='best')\n",
    "plt.show()\n",
    "# Plot ROC Curve\n",
    "fpr, tpr, _ = roc_curve(y_test_rf, y_prob_rf)\n",
    "roc_auc = auc(fpr, tpr)\n",
    "plt.figure()\n",
    "plt.plot(fpr, tpr, label=f'ROC Curve (AUC = {roc_auc:.2f})')\n",
    "plt.xlabel('False Positive Rate')\n",
    "plt.ylabel('True Positive Rate')\n",
    "plt.title('ROC Curve')\n",
    "plt.legend(loc='best')\n",
    "plt.show()\n",
    "# Log Loss\n",
    "print(f\"Log Loss: {log_loss(y_test_rf, y_prob_rf):.4f}\")\n",
    "# Cohen's Kappa Score\n",
    "kappa = cohen_kappa_score(y_test_rf, y_pred_rf)\n",
    "print(f\"Cohen's Kappa: {kappa:.4f}\")\n",
    "# Matthews Correlation Coefficient\n",
    "mcc = matthews_corrcoef(y_test_rf, y_pred_rf)\n",
    "print(f\"Matthews Correlation Coefficient: {mcc:.4f}\")\n"
   ]
  }
 ],
 "metadata": {
  "colab": {
   "provenance": []
  },
  "kernelspec": {
   "display_name": "Python 3 (ipykernel)",
   "language": "python",
   "name": "python3"
  },
  "language_info": {
   "codemirror_mode": {
    "name": "ipython",
    "version": 3
   },
   "file_extension": ".py",
   "mimetype": "text/x-python",
   "name": "python",
   "nbconvert_exporter": "python",
   "pygments_lexer": "ipython3",
   "version": "3.12.3"
  }
 },
 "nbformat": 4,
 "nbformat_minor": 4
}
