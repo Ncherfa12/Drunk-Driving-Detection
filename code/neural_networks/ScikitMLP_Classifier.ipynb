{
 "cells": [
  {
   "cell_type": "code",
   "execution_count": null,
   "metadata": {
    "colab": {
     "base_uri": "https://localhost:8080/"
    },
    "id": "1X4N6R_FvNQk",
    "outputId": "95437d06-fed8-4bfa-9858-92ba90f80bdc"
   },
   "outputs": [
    {
     "name": "stdout",
     "output_type": "stream",
     "text": [
      "Mounted at /content/drive\n"
     ]
    }
   ],
   "source": [
    "# Mount Google Drive (if your data is stored there; skip this if using local files)\n",
    "from google.colab import drive\n",
    "drive.mount('/content/drive')"
   ]
  },
  {
   "cell_type": "code",
   "execution_count": null,
   "metadata": {
    "id": "4d7zN-5E_K4s"
   },
   "outputs": [],
   "source": [
    "import os\n",
    "# Set the working directory (update the path based on your environment)\n",
    "# If using Google Colab with Google Drive, specify the correct path; otherwise, use a local path.\n",
    "os.chdir('/content/drive/MyDrive/Project_VTTI')  # Example for Google Colab\n",
    "# os.chdir('/path/to/your/local/directory')  # Uncomment and replace for local usage"
   ]
  },
  {
   "cell_type": "code",
   "execution_count": null,
   "metadata": {
    "id": "E3iWdnj6_Mm-"
   },
   "outputs": [],
   "source": [
    "# Importing the necessary libraries and functions! \n",
    "import numpy as np\n",
    "import pandas as pd\n",
    "import matplotlib.pyplot as plt\n",
    "import xgboost as xgb\n",
    "from sklearn.metrics import confusion_matrix, classification_report\n",
    "import os\n",
    "\n",
    "# Function that aggregates all the csv files from both folders into two dataframes for identified and unknown\n",
    "def aggregate_csvs(directory_path):\n",
    "    # set up an Empty list\n",
    "    dataframes = []\n",
    "\n",
    "    # Going through directories to concatenate it all (all the CSV's)\n",
    "    for subdir, _, files in os.walk(directory_path):\n",
    "        for file in files:\n",
    "            if file.endswith('.csv'):\n",
    "                filepath = os.path.join(subdir, file)\n",
    "                df = pd.read_csv(filepath)\n",
    "                dataframes.append(df)\n",
    "\n",
    "    # Combine all DataFrames into one\n",
    "    aggregated_df = pd.concat(dataframes, ignore_index=True)\n",
    "    return aggregated_df\n",
    "\n",
    "identified_data = aggregate_csvs('Identified_Classifier') # target folder, identified_classifier is a split datasets\n",
    "unknown_data = aggregate_csvs('Unknown_Classifier')# unknown_classifier is a split dataset\n",
    "\n",
    "\n",
    "\n",
    "# The actual important features we want to try out.\n",
    "def important_features(sigF):\n",
    "\n",
    "    window_size_milliseconds_steering = 10000  # 10 seconds window of time\n",
    "    window_size_milliseconds_distance = 1000  # 1 second window of time\n",
    "\n",
    "\n",
    "    # Wheel positions features\n",
    "    sigF['steering_stability'] = sigF['vtti.steering_wheel_position'].rolling(window=window_size_milliseconds_steering).std()\n",
    "\n",
    "    # Pedal features\n",
    "    sigF['brake_duration'] = sigF.groupby((sigF['vtti.pedal_brake_state'] != sigF['vtti.pedal_brake_state'].shift()).cumsum()).cumcount() * sigF['vtti.pedal_brake_state']\n",
    "    sigF['brake_event'] = sigF['vtti.pedal_brake_state'].diff().apply(lambda x: 1 if x == 1 else 0) #  Brake event important!\n",
    "    sigF['brake_frequency'] = sigF['brake_event'].rolling(window=window_size_milliseconds_steering).sum()\n",
    "\n",
    "\n",
    "    # Lateral Position\n",
    "    sigF['avg_abs_distance_from_center'] = sigF['vtti.lane_distance_off_center'].abs().rolling(window=window_size_milliseconds_distance).mean()\n",
    "    sigF['lateral_velocity'] = sigF['vtti.lane_distance_off_center'].diff()\n",
    "    sigF['lateral_acceleration'] = sigF['lateral_velocity'].diff()\n",
    "\n",
    "\n",
    "\n",
    "\n",
    "    return sigF\n",
    "\n",
    "identified_data_MLP = important_features(identified_data) # New dataframe with only the significant features included!\n",
    "unknown_data_MLP = important_features(unknown_data)       # Same thing was the line above!\n",
    "\n",
    "\n",
    "\n",
    "# Our significant features (the ones we defined earlier)\n",
    "#significant_columns = ['steering_stability','brake_duration','brake_frequency',\n",
    "                      #'avg_abs_distance_from_center','lateral_velocity','lateral_acceleration']\n",
    "\n",
    "# New sig features\n",
    "\n",
    "significant_columns = ['lateral_velocity','brake_frequency',\n",
    "                       'avg_abs_distance_from_center','lateral_acceleration']   # WORKs\n",
    "\n",
    "identified_data_MLP = identified_data_MLP[significant_columns] # Code that makes the dataframe shorter based on the features we want to keep\n",
    "unknown_data_MLP = unknown_data_MLP[significant_columns] # Does same thing as line above"
   ]
  },
  {
   "cell_type": "code",
   "execution_count": null,
   "metadata": {
    "colab": {
     "base_uri": "https://localhost:8080/"
    },
    "id": "PalcPPUj_X-A",
    "outputId": "32710bd2-5615-4929-c948-dee2b8247a52"
   },
   "outputs": [
    {
     "name": "stderr",
     "output_type": "stream",
     "text": [
      "<ipython-input-4-72119c45dfb2>:1: SettingWithCopyWarning: \n",
      "A value is trying to be set on a copy of a slice from a DataFrame\n",
      "\n",
      "See the caveats in the documentation: https://pandas.pydata.org/pandas-docs/stable/user_guide/indexing.html#returning-a-view-versus-a-copy\n",
      "  identified_data_MLP.dropna(inplace=True) #Drop Null values\n",
      "<ipython-input-4-72119c45dfb2>:2: SettingWithCopyWarning: \n",
      "A value is trying to be set on a copy of a slice from a DataFrame\n",
      "\n",
      "See the caveats in the documentation: https://pandas.pydata.org/pandas-docs/stable/user_guide/indexing.html#returning-a-view-versus-a-copy\n",
      "  unknown_data_MLP.dropna(inplace=True)\n"
     ]
    }
   ],
   "source": [
    "identified_data_MLP.dropna(inplace=True) #Drop Null values\n",
    "unknown_data_MLP.dropna(inplace=True)"
   ]
  },
  {
   "cell_type": "code",
   "execution_count": null,
   "metadata": {
    "colab": {
     "base_uri": "https://localhost:8080/"
    },
    "id": "Zh8OzNzr_adB",
    "outputId": "7d4e3073-73b6-4888-a030-d64d0f2f2b94"
   },
   "outputs": [
    {
     "name": "stdout",
     "output_type": "stream",
     "text": [
      "(1022486, 4)\n",
      "(1069361, 4)\n"
     ]
    }
   ],
   "source": [
    "print(identified_data_MLP.shape) # Make sure the shape is healthy\n",
    "print(unknown_data_MLP.shape)"
   ]
  },
  {
   "cell_type": "code",
   "execution_count": null,
   "metadata": {
    "colab": {
     "base_uri": "https://localhost:8080/"
    },
    "id": "lzqfvbAI_chy",
    "outputId": "a27e72b8-32b9-410a-c762-152276b7af70"
   },
   "outputs": [
    {
     "name": "stdout",
     "output_type": "stream",
     "text": [
      "lateral_velocity                0\n",
      "brake_frequency                 0\n",
      "avg_abs_distance_from_center    0\n",
      "lateral_acceleration            0\n",
      "dtype: int64\n"
     ]
    }
   ],
   "source": [
    "print(identified_data_MLP[['lateral_velocity','brake_frequency',\n",
    "                       'avg_abs_distance_from_center','lateral_acceleration']].isna().sum()) # CHECK NULL VALUES FOR IDENTIFIED DATASET BEFORE PROCEEDING"
   ]
  },
  {
   "cell_type": "code",
   "execution_count": null,
   "metadata": {
    "colab": {
     "base_uri": "https://localhost:8080/"
    },
    "id": "1M6c7-qO_efm",
    "outputId": "fd57164a-3789-40d2-affd-11d2c50a2891"
   },
   "outputs": [
    {
     "name": "stdout",
     "output_type": "stream",
     "text": [
      "lateral_velocity                0\n",
      "brake_frequency                 0\n",
      "avg_abs_distance_from_center    0\n",
      "lateral_acceleration            0\n",
      "dtype: int64\n"
     ]
    }
   ],
   "source": [
    "print(unknown_data_MLP[['lateral_velocity','brake_frequency',\n",
    "                       'avg_abs_distance_from_center','lateral_acceleration']].isna().sum()) # CHECK NULL VALUES FOR UNKNOWN DATASET BEFORE PROCEEDING"
   ]
  },
  {
   "cell_type": "code",
   "execution_count": null,
   "metadata": {
    "colab": {
     "base_uri": "https://localhost:8080/"
    },
    "id": "gnY9o2qP_gkJ",
    "outputId": "b9a0f558-3752-4a88-a226-ef3351b845b7"
   },
   "outputs": [
    {
     "name": "stdout",
     "output_type": "stream",
     "text": [
      "       lateral_velocity  brake_frequency  avg_abs_distance_from_center  \\\n",
      "15038          0.000000             58.0                    124.497663   \n",
      "15039          0.000000             58.0                    124.490494   \n",
      "15040          0.000000             58.0                    124.488096   \n",
      "15041          0.000000             58.0                    124.485699   \n",
      "15042          0.000000             58.0                    124.483301   \n",
      "...                 ...              ...                           ...   \n",
      "15133          0.000000             58.0                    118.997795   \n",
      "15134          0.000000             58.0                    118.890905   \n",
      "15135         73.443410             58.0                    118.917091   \n",
      "15136         38.161072             58.0                    118.922848   \n",
      "15137         -0.677319             58.0                    118.927674   \n",
      "\n",
      "       lateral_acceleration  \n",
      "15038              0.000000  \n",
      "15039              0.000000  \n",
      "15040              0.000000  \n",
      "15041              0.000000  \n",
      "15042              0.000000  \n",
      "...                     ...  \n",
      "15133              0.000000  \n",
      "15134              0.000000  \n",
      "15135             73.443410  \n",
      "15136            -35.282338  \n",
      "15137            -38.838391  \n",
      "\n",
      "[100 rows x 4 columns]\n"
     ]
    }
   ],
   "source": [
    "print(identified_data_MLP[0:100]) # Check healthy Shape for identified data"
   ]
  },
  {
   "cell_type": "code",
   "execution_count": null,
   "metadata": {
    "colab": {
     "base_uri": "https://localhost:8080/"
    },
    "id": "qfU4zsK2_i4F",
    "outputId": "0efe404f-ee0f-4dc9-827e-6f2a4e71d226"
   },
   "outputs": [
    {
     "name": "stdout",
     "output_type": "stream",
     "text": [
      "        lateral_velocity  brake_frequency  avg_abs_distance_from_center  \\\n",
      "10433           0.000000              1.0                      8.499999   \n",
      "10434           0.000000              1.0                      8.499999   \n",
      "10435           0.000000              1.0                      8.499999   \n",
      "10436           0.000000              1.0                      8.499999   \n",
      "10437           0.000000              1.0                      8.499999   \n",
      "...                  ...              ...                           ...   \n",
      "294583          3.894670              0.0                     30.364727   \n",
      "294584          4.233342              0.0                     30.392145   \n",
      "294585         -1.550535              0.0                     30.418520   \n",
      "294586          9.001236              0.0                     30.452966   \n",
      "294587         11.937995              0.0                     30.500365   \n",
      "\n",
      "        lateral_acceleration  \n",
      "10433               0.000000  \n",
      "10434               0.000000  \n",
      "10435               0.000000  \n",
      "10436               0.000000  \n",
      "10437               0.000000  \n",
      "...                      ...  \n",
      "294583              3.302014  \n",
      "294584              0.338672  \n",
      "294585             -5.783877  \n",
      "294586             10.551771  \n",
      "294587              2.936759  \n",
      "\n",
      "[100000 rows x 4 columns]\n"
     ]
    }
   ],
   "source": [
    "print(unknown_data_MLP[0:100000]) # Check healthy Shape for unknown data"
   ]
  },
  {
   "cell_type": "code",
   "execution_count": null,
   "metadata": {
    "colab": {
     "base_uri": "https://localhost:8080/"
    },
    "id": "HXJbr1Ys_ktg",
    "outputId": "608b8114-659f-497b-84fc-1e6453833992"
   },
   "outputs": [
    {
     "data": {
      "text/plain": [
       "['y_test_MLP.pkl']"
      ]
     },
     "execution_count": 10,
     "metadata": {},
     "output_type": "execute_result"
    }
   ],
   "source": [
    "# First part of the cell looks similar to the other ones (subset of scikit-learn)\n",
    "import joblib\n",
    "from sklearn.preprocessing import StandardScaler\n",
    "\n",
    "# To avoid unnecessary warnings, create copies!\n",
    "\n",
    "identified_data_MLP = identified_data_MLP.copy()\n",
    "unknown_data_MLP = unknown_data_MLP.copy()\n",
    "\n",
    "# Combining the datasets + creating a target variable for each class\n",
    "\n",
    "identified_data_MLP.loc[:,'target'] = 1\n",
    "unknown_data_MLP.loc[:,'target'] = 0\n",
    "combined_data_MLP = pd.concat([identified_data_MLP, unknown_data_MLP], ignore_index=True)\n",
    "\n",
    "# Handle missing values\n",
    "#combined_data_SVM.fillna(0, inplace=True)\n",
    "\n",
    "# Splitting the data\n",
    "X = combined_data_MLP.drop('target', axis=1)\n",
    "y = combined_data_MLP['target']\n",
    "\n",
    "from sklearn.model_selection import train_test_split\n",
    "\n",
    "X_train_MLP, X_test_MLP, y_train_MLP, y_test_MLP = train_test_split(X, y, test_size=0.2, random_state=5)\n",
    "\n",
    "# Scaler (needed for better performance, important step but not necessarilly needed)\n",
    "sc = StandardScaler()\n",
    "\n",
    "# Fit the scaler using the training data and transform the training data\n",
    "X_train_MLP_sc = sc.fit_transform(X_train_MLP)\n",
    "\n",
    "# Transform the test data using the same scaler\n",
    "X_test_MLP_sc = sc.transform(X_test_MLP)\n",
    "\n",
    "# Save X_test_SVM and y_test_SVM\n",
    "joblib.dump(X_test_MLP_sc, 'X_test_MLP_sc.pkl')\n",
    "joblib.dump(y_test_MLP, 'y_test_MLP.pkl')"
   ]
  },
  {
   "cell_type": "code",
   "execution_count": null,
   "metadata": {
    "colab": {
     "base_uri": "https://localhost:8080/"
    },
    "id": "e4eyK9KcBkrZ",
    "outputId": "792d2443-5611-4055-ab0d-7a82c64f1db0"
   },
   "outputs": [
    {
     "name": "stdout",
     "output_type": "stream",
     "text": [
      "Training Accuracy is: 0.7162649979653142\n",
      "Test Accuracy is: 0.7157563878863207\n",
      "\n",
      "Classification Report for Test Data:\n",
      "               precision    recall  f1-score   support\n",
      "\n",
      "           0       0.71      0.75      0.73    213700\n",
      "           1       0.72      0.68      0.70    204670\n",
      "\n",
      "    accuracy                           0.72    418370\n",
      "   macro avg       0.72      0.71      0.71    418370\n",
      "weighted avg       0.72      0.72      0.72    418370\n",
      "\n"
     ]
    }
   ],
   "source": [
    "from sklearn.neural_network import MLPClassifier\n",
    "from sklearn.metrics import accuracy_score, classification_report # Classification report + accuracy score\n",
    "\n",
    "mlp = MLPClassifier(hidden_layer_sizes=(100,), max_iter=1000, activation='relu', random_state=5) # Training the MLP classifier\n",
    "mlp.fit(X_train_MLP_sc, y_train_MLP) # Parameters are subjective, you have to find the best combination.\n",
    "\n",
    "y_pred_train_MLP = mlp.predict(X_train_MLP_sc) # notice, we're using the scaled sets\n",
    "y_pred_test_MLP = mlp.predict(X_test_MLP_sc)\n",
    "\n",
    "print(\"Training Accuracy is:\", accuracy_score(y_train_MLP, y_pred_train_MLP))\n",
    "print(\"Test Accuracy is:\", accuracy_score(y_test_MLP, y_pred_test_MLP))\n",
    "print(\"\\nClassification Report for Test Data:\\n\", classification_report(y_test_MLP, y_pred_test_MLP)) # Printing the classification report, standard stuff\n"
   ]
  },
  {
   "cell_type": "code",
   "execution_count": null,
   "metadata": {
    "colab": {
     "base_uri": "https://localhost:8080/",
     "height": 621
    },
    "id": "8eHyrsPzCJis",
    "outputId": "94726347-b89b-4d38-b3fb-dba562f81f96"
   },
   "outputs": [
    {
     "data": {
      "image/png": "[encoded data removed]",
      "text/plain": [
       "<Figure size 1000x700 with 2 Axes>"
      ]
     },
     "metadata": {},
     "output_type": "display_data"
    }
   ],
   "source": [
    "import numpy as np\n",
    "import matplotlib.pyplot as plt\n",
    "from sklearn.metrics import confusion_matrix # Importing all the necessary Libraries\n",
    "import seaborn as sns\n",
    "\n",
    "conf_matrix = confusion_matrix(y_test_MLP, y_pred_test_MLP) # Confusion matrix\n",
    "\n",
    "plt.figure(figsize=(10,7)) # Standard size and color, change as you want\n",
    "sns.heatmap(conf_matrix, annot=True, fmt='g', cmap='Blues')\n",
    "plt.xlabel('Predicted')\n",
    "plt.ylabel('Actual')\n",
    "plt.show() # Displaying the matrix"
   ]
  },
  {
   "cell_type": "code",
   "execution_count": null,
   "metadata": {
    "colab": {
     "base_uri": "https://localhost:8080/"
    },
    "id": "u7iTa0A7NJqP",
    "outputId": "9024fdcb-bca1-4b9a-8a2d-a9ea0a8a8bed"
   },
   "outputs": [
    {
     "name": "stdout",
     "output_type": "stream",
     "text": [
      "Fitting 3 folds for each of 10 candidates, totalling 30 fits\n",
      "Best parameters found:  {'solver': 'adam', 'learning_rate': 'constant', 'hidden_layer_sizes': (100,), 'alpha': 0.001, 'activation': 'relu'}\n",
      "Training Accuracy is: 0.717887966192544\n",
      "Test Accuracy is: 0.7175394985300093\n",
      "\n",
      "Classification Report for Test Data:\n",
      "               precision    recall  f1-score   support\n",
      "\n",
      "           0       0.70      0.78      0.74    213700\n",
      "           1       0.74      0.65      0.69    204670\n",
      "\n",
      "    accuracy                           0.72    418370\n",
      "   macro avg       0.72      0.72      0.72    418370\n",
      "weighted avg       0.72      0.72      0.72    418370\n",
      "\n"
     ]
    }
   ],
   "source": [
    "from sklearn.model_selection import RandomizedSearchCV # HYPERTUNING PROCESS\n",
    "from sklearn.metrics import accuracy_score, classification_report # Classification report + accuracy score\n",
    "from sklearn.neural_network import MLPClassifier\n",
    "\n",
    "# Define a searchable parameter space (based on your computational ressources!)\n",
    "param_dist = {\n",
    "    'hidden_layer_sizes': [(50,), (100,)],  # these are few options, can include much more!\n",
    "    'activation': ['relu', 'tanh'],\n",
    "    'solver': ['adam'],\n",
    "    'alpha': [0.001, 0.01],\n",
    "    'learning_rate': ['constant', 'adaptive']\n",
    "}\n",
    "\n",
    "# Sampling a subset of the data (in this case 30% which is standard), you can adjust as needed\n",
    "from sklearn.model_selection import train_test_split\n",
    "X_subset, _, y_subset, _ = train_test_split(X_train_MLP_sc, y_train_MLP, train_size=0.3, stratify=y_train_MLP)\n",
    "\n",
    "# Initializing the MLP Classifier with 1000 max iter. Random state is arbiratry\n",
    "mlp = MLPClassifier(max_iter=1000, random_state=5)\n",
    "\n",
    "# Initialize RandomizedSearchCV (can include much more parameters and higher folds etc)\n",
    "random_search = RandomizedSearchCV(mlp, param_distributions=param_dist, n_iter=10, cv=3,\n",
    "                                   scoring='accuracy', n_jobs=-1, verbose=2, random_state=5)\n",
    "\n",
    "# Fitting te model on that subset (30% in this case)\n",
    "random_search.fit(X_subset, y_subset)\n",
    "\n",
    "# Print the best parameters (If you want to see and save them)\n",
    "print(\"Best parameters found: \", random_search.best_params_)\n",
    "best_mlp = random_search.best_estimator_\n",
    "\n",
    "# Training the best model model on the full training set\n",
    "best_mlp.fit(X_train_MLP_sc, y_train_MLP)\n",
    "\n",
    "# Make predictions using the best model!\n",
    "y_pred_train_MLP = best_mlp.predict(X_train_MLP_sc)\n",
    "y_pred_test_MLP = best_mlp.predict(X_test_MLP_sc)\n",
    "\n",
    "# Classification metrics (accuracy etc)\n",
    "print(\"Training Accuracy is:\", accuracy_score(y_train_MLP, y_pred_train_MLP))\n",
    "print(\"Test Accuracy is:\", accuracy_score(y_test_MLP, y_pred_test_MLP))\n",
    "print(\"\\nClassification Report for Test Data:\\n\", classification_report(y_test_MLP, y_pred_test_MLP))\n"
   ]
  },
  {
   "cell_type": "code",
   "execution_count": null,
   "metadata": {
    "colab": {
     "base_uri": "https://localhost:8080/"
    },
    "id": "r-AokIG7GsG7",
    "outputId": "197054e2-13a7-450a-fc5e-ce564a48fe00"
   },
   "outputs": [
    {
     "data": {
      "text/plain": [
       "['MLP_model.pkl']"
      ]
     },
     "execution_count": 13,
     "metadata": {},
     "output_type": "execute_result"
    }
   ],
   "source": [
    "import joblib # Only run if you want to save the model to your directory (to be deployed somewhere else or something)\n",
    "\n",
    "joblib.dump(mlp,'MLP_model.pkl')"
   ]
  },
  {
   "cell_type": "code",
   "execution_count": null,
   "metadata": {
    "colab": {
     "base_uri": "https://localhost:8080/",
     "height": 979
    },
    "id": "PeOvnO9WDBYq",
    "outputId": "d0d8fae4-93c3-4d43-89b4-fb20ca5cb16d"
   },
   "outputs": [
    {
     "data": {
      "image/png": "[encoded data removed]",
      "text/plain": [
       "<Figure size 640x480 with 1 Axes>"
      ]
     },
     "metadata": {},
     "output_type": "display_data"
    },
    {
     "data": {
      "image/png": "[encoded data removed]",
      "text/plain": [
       "<Figure size 640x480 with 1 Axes>"
      ]
     },
     "metadata": {},
     "output_type": "display_data"
    },
    {
     "name": "stdout",
     "output_type": "stream",
     "text": [
      "Log Loss: 0.5554697505761831\n",
      "Cohen's Kappa is: 0.4304943170822805\n",
      "Matthews Correlation Coefficient is: 0.43130758405857883\n"
     ]
    }
   ],
   "source": [
    "import joblib # No real need to re-import, but just in case one does not want to rerun all the cells for some reason.\n",
    "import matplotlib.pyplot as plt\n",
    "from sklearn.metrics import roc_curve, auc, precision_recall_curve, average_precision_score, log_loss, cohen_kappa_score, matthews_corrcoef\n",
    "\n",
    "# Load the final model\n",
    "MLP_model = joblib.load('MLP_model.pkl')\n",
    "\n",
    "# Make sure X_test and y_test are loaded; check previous cells and rerun if neeeded. Code is there to make sure they are saved.\n",
    "\n",
    "y_prob_MLP = MLP_model.predict_proba(X_test_MLP_sc)[:, 1]\n",
    "y_pred_MLP = MLP_model.predict(X_test_MLP_sc)\n",
    "\n",
    "# Plotting the Precision Curve (PRC)\n",
    "precision, recall, _ = precision_recall_curve(y_test_MLP, y_prob_MLP)\n",
    "average_precision = average_precision_score(y_test_MLP, y_prob_MLP)\n",
    "\n",
    "plt.figure()\n",
    "plt.plot(recall, precision, label='PR curve (area = %0.2f)' % average_precision)\n",
    "plt.xlabel('Recall')\n",
    "plt.ylabel('Precision')\n",
    "plt.title('Precision-Recall Curve')\n",
    "plt.legend(loc='best')\n",
    "plt.show()\n",
    "\n",
    "# PLotting the ROC Curve and AUC\n",
    "fpr_MLP, tpr_MLP, _ = roc_curve(y_test_MLP, y_prob_MLP)\n",
    "roc_auc_MLP = auc(fpr_MLP, tpr_MLP)\n",
    "\n",
    "plt.figure()\n",
    "plt.plot(fpr_MLP, tpr_MLP, label='ROC curve (area = %0.2f)' % roc_auc_MLP)\n",
    "plt.xlabel('False Positive Rate')\n",
    "plt.ylabel('True Positive Rate')\n",
    "plt.title('ROC Curve')\n",
    "plt.legend(loc='best')\n",
    "plt.show()\n",
    "\n",
    "# Setting up the log loss\n",
    "print(\"Log Loss:\", log_loss(y_test_MLP, y_prob_MLP))\n",
    "\n",
    "# Displaying the Cohen's Kappa metric (useful metric)\n",
    "kappa_MLP = cohen_kappa_score(y_test_MLP, y_pred_MLP)\n",
    "print(\"Cohen's Kappa is:\", kappa_MLP)\n",
    "\n",
    "# Displaying the Matthews Correlation Coefficient (useful metric)\n",
    "mcc_MLP = matthews_corrcoef(y_test_MLP, y_pred_MLP)\n",
    "print(\"Matthews Correlation Coefficient is:\", mcc_MLP)"
   ]
  }
 ],
 "metadata": {
  "colab": {
   "provenance": []
  },
  "kernelspec": {
   "display_name": "Python 3 (ipykernel)",
   "language": "python",
   "name": "python3"
  },
  "language_info": {
   "codemirror_mode": {
    "name": "ipython",
    "version": 3
   },
   "file_extension": ".py",
   "mimetype": "text/x-python",
   "name": "python",
   "nbconvert_exporter": "python",
   "pygments_lexer": "ipython3",
   "version": "3.12.3"
  }
 },
 "nbformat": 4,
 "nbformat_minor": 4
}
