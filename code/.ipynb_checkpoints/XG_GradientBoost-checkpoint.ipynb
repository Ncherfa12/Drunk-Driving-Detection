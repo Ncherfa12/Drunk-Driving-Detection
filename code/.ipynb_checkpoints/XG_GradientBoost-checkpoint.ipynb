{
 "cells": [
  {
   "cell_type": "code",
   "execution_count": null,
   "metadata": {
    "colab": {
     "base_uri": "https://localhost:8080/"
    },
    "id": "g_TLPj9XHYVA",
    "outputId": "333e5b02-99e1-45a1-fc08-fee916a17605"
   },
   "outputs": [
    {
     "name": "stdout",
     "output_type": "stream",
     "text": [
      "Mounted at /content/drive\n"
     ]
    }
   ],
   "source": [
    "# Mount Google Drive (if your data is stored there; skip this if using local files)\n",
    "from google.colab import drive\n",
    "drive.mount('/content/drive')"
   ]
  },
  {
   "cell_type": "code",
   "execution_count": null,
   "metadata": {
    "id": "j5ythKFEHeiO"
   },
   "outputs": [],
   "source": [
    "import os\n",
    "# Set the working directory (update the path based on your environment)\n",
    "# If using Google Colab with Google Drive, specify the correct path; otherwise, use a local path.\n",
    "os.chdir('/content/drive/MyDrive/Project_VTTI')  # Example for Google Colab\n",
    "# os.chdir('/path/to/your/local/directory')  # Uncomment and replace for local usage"
   ]
  },
  {
   "cell_type": "code",
   "execution_count": null,
   "metadata": {
    "id": "LJpP9Dr6Ytba"
   },
   "outputs": [],
   "source": [
    "import pandas as pd\n",
    "import os  # Import necessary libraries\n",
    "\n",
    "# Function to aggregate all CSV files from a given directory into a single DataFrame\n",
    "def aggregate_csvs(directory_path):\n",
    "    dataframes = []\n",
    "\n",
    "    # Traverse the directory and subdirectories to find CSV files\n",
    "    for subdir, _, files in os.walk(directory_path):\n",
    "        for file in files:\n",
    "            if file.endswith('.csv'):\n",
    "                filepath = os.path.join(subdir, file)\n",
    "                df = pd.read_csv(filepath)\n",
    "                dataframes.append(df)\n",
    "\n",
    "    # Concatenate all DataFrames into one\n",
    "    aggregated_df = pd.concat(dataframes, ignore_index=True)\n",
    "    return aggregated_df\n",
    "\n",
    "# Aggregate data for identified and unknown datasets\n",
    "identified_data = aggregate_csvs('Identified_Classifier')  # Folder for identified (split) datasets\n",
    "unknown_data = aggregate_csvs('Unknown_Classifier')        # Folder for unknown (split) datasets\n",
    "\n",
    "# Function to extract important features from the dataset\n",
    "def extract_important_features(df):\n",
    "    window_steering = 10 * 1000  # 10-second window for steering features\n",
    "    window_distance = 1 * 1000   # 1-second window for lane distance features\n",
    "\n",
    "    # Steering features\n",
    "    df['steering_stability'] = df['vtti.steering_wheel_position'].rolling(window=window_steering).std()\n",
    "\n",
    "    # Pedal features\n",
    "    df['brake_duration'] = df.groupby((df['vtti.pedal_brake_state'] != df['vtti.pedal_brake_state'].shift()).cumsum()).cumcount() * df['vtti.pedal_brake_state']\n",
    "    df['brake_event'] = df['vtti.pedal_brake_state'].diff().apply(lambda x: 1 if x == 1 else 0)\n",
    "    df['brake_frequency'] = df['brake_event'].rolling(window=window_steering).sum()\n",
    "\n",
    "    # Lateral position features\n",
    "    df['avg_abs_distance_from_center'] = df['vtti.lane_distance_off_center'].abs().rolling(window=window_distance).mean()\n",
    "    df['lateral_velocity'] = df['vtti.lane_distance_off_center'].diff()\n",
    "    df['lateral_acceleration'] = df['lateral_velocity'].diff()\n",
    "\n",
    "    return df\n",
    "\n",
    "# Apply feature extraction to both datasets\n",
    "identified_data = extract_important_features(identified_data)\n",
    "unknown_data = extract_important_features(unknown_data)\n",
    "\n",
    "# Define significant columns to keep in the final analysis\n",
    "significant_columns = [\n",
    "    'lateral_velocity', 'brake_frequency',\n",
    "    'avg_abs_distance_from_center', 'lateral_acceleration'\n",
    "]\n",
    "\n",
    "# Filter the DataFrames to include only the significant features\n",
    "identified_data = identified_data[significant_columns]\n",
    "unknown_data = unknown_data[significant_columns]"
   ]
  },
  {
   "cell_type": "code",
   "execution_count": null,
   "metadata": {
    "colab": {
     "base_uri": "https://localhost:8080/"
    },
    "id": "9iDQABMvtAbv",
    "outputId": "a8093a08-0990-48b4-e507-4c6a80ec4c48"
   },
   "outputs": [
    {
     "name": "stderr",
     "output_type": "stream",
     "text": [
      "<ipython-input-5-b1fa0ef15552>:1: SettingWithCopyWarning: \n",
      "A value is trying to be set on a copy of a slice from a DataFrame\n",
      "\n",
      "See the caveats in the documentation: https://pandas.pydata.org/pandas-docs/stable/user_guide/indexing.html#returning-a-view-versus-a-copy\n",
      "  identified_data_XGB.dropna(inplace=True) #Drop Null values\n",
      "<ipython-input-5-b1fa0ef15552>:2: SettingWithCopyWarning: \n",
      "A value is trying to be set on a copy of a slice from a DataFrame\n",
      "\n",
      "See the caveats in the documentation: https://pandas.pydata.org/pandas-docs/stable/user_guide/indexing.html#returning-a-view-versus-a-copy\n",
      "  unknown_data_XGB.dropna(inplace=True)\n"
     ]
    }
   ],
   "source": [
    "# Drop rows with any missing values in both datasets\n",
    "identified_data.dropna(inplace=True)\n",
    "unknown_data.dropna(inplace=True)"
   ]
  },
  {
   "cell_type": "code",
   "execution_count": null,
   "metadata": {
    "colab": {
     "base_uri": "https://localhost:8080/"
    },
    "id": "N6sKpXuTYz4c",
    "outputId": "1eac4d84-aa19-4634-91c6-1fbcd24720ed"
   },
   "outputs": [
    {
     "name": "stdout",
     "output_type": "stream",
     "text": [
      "(1022486, 4)\n",
      "(1069361, 4)\n"
     ]
    }
   ],
   "source": [
    "# Check the shape of both datasets to ensure they are healthy\n",
    "print(\"Identified Data Shape:\", identified_data.shape)\n",
    "print(\"Unknown Data Shape:\", unknown_data.shape)"
   ]
  },
  {
   "cell_type": "code",
   "execution_count": null,
   "metadata": {
    "colab": {
     "base_uri": "https://localhost:8080/"
    },
    "id": "iSyekIily1Z5",
    "outputId": "24d28568-a040-4317-9a38-596d3cc2d80f"
   },
   "outputs": [
    {
     "name": "stdout",
     "output_type": "stream",
     "text": [
      "lateral_velocity                0\n",
      "brake_frequency                 0\n",
      "avg_abs_distance_from_center    0\n",
      "lateral_acceleration            0\n",
      "dtype: int64\n"
     ]
    }
   ],
   "source": [
    "# Check for null values in the identified dataset before proceeding\n",
    "print(identified_data[['lateral_velocity', 'brake_frequency', \n",
    "                       'avg_abs_distance_from_center', 'lateral_acceleration']].isna().sum())"
   ]
  },
  {
   "cell_type": "code",
   "execution_count": null,
   "metadata": {
    "colab": {
     "base_uri": "https://localhost:8080/"
    },
    "id": "-t-CLEyiy00P",
    "outputId": "f9ed0421-1d30-4510-a439-4b6d89e31c74"
   },
   "outputs": [
    {
     "name": "stdout",
     "output_type": "stream",
     "text": [
      "lateral_velocity                0\n",
      "brake_frequency                 0\n",
      "avg_abs_distance_from_center    0\n",
      "lateral_acceleration            0\n",
      "dtype: int64\n"
     ]
    }
   ],
   "source": [
    "# Check for null values in the unknown dataset before proceeding\n",
    "print(unknown_data[['lateral_velocity', 'brake_frequency', \n",
    "                    'avg_abs_distance_from_center', 'lateral_acceleration']].isna().sum())"
   ]
  },
  {
   "cell_type": "code",
   "execution_count": null,
   "metadata": {
    "colab": {
     "base_uri": "https://localhost:8080/"
    },
    "id": "qxJZiL5Wy6jy",
    "outputId": "c64c79a7-1a67-4be8-8fa5-4ab1c846bb87"
   },
   "outputs": [
    {
     "name": "stdout",
     "output_type": "stream",
     "text": [
      "       lateral_velocity  brake_frequency  avg_abs_distance_from_center  \\\n",
      "15038          0.000000             58.0                    124.497663   \n",
      "15039          0.000000             58.0                    124.490494   \n",
      "15040          0.000000             58.0                    124.488096   \n",
      "15041          0.000000             58.0                    124.485699   \n",
      "15042          0.000000             58.0                    124.483301   \n",
      "...                 ...              ...                           ...   \n",
      "15133          0.000000             58.0                    118.997795   \n",
      "15134          0.000000             58.0                    118.890905   \n",
      "15135         73.443410             58.0                    118.917091   \n",
      "15136         38.161072             58.0                    118.922848   \n",
      "15137         -0.677319             58.0                    118.927674   \n",
      "\n",
      "       lateral_acceleration  \n",
      "15038              0.000000  \n",
      "15039              0.000000  \n",
      "15040              0.000000  \n",
      "15041              0.000000  \n",
      "15042              0.000000  \n",
      "...                     ...  \n",
      "15133              0.000000  \n",
      "15134              0.000000  \n",
      "15135             73.443410  \n",
      "15136            -35.282338  \n",
      "15137            -38.838391  \n",
      "\n",
      "[100 rows x 4 columns]\n"
     ]
    }
   ],
   "source": [
    "# Preview the first 100 rows of the identified dataset to check for a healthy shape\n",
    "print(identified_data.head(100))"
   ]
  },
  {
   "cell_type": "code",
   "execution_count": null,
   "metadata": {
    "colab": {
     "base_uri": "https://localhost:8080/"
    },
    "id": "LXatrrhxy6se",
    "outputId": "c8899ca6-894a-4f3f-c88e-1ce14ca9ec6e"
   },
   "outputs": [
    {
     "name": "stdout",
     "output_type": "stream",
     "text": [
      "        lateral_velocity  brake_frequency  avg_abs_distance_from_center  \\\n",
      "10433           0.000000              1.0                      8.499999   \n",
      "10434           0.000000              1.0                      8.499999   \n",
      "10435           0.000000              1.0                      8.499999   \n",
      "10436           0.000000              1.0                      8.499999   \n",
      "10437           0.000000              1.0                      8.499999   \n",
      "...                  ...              ...                           ...   \n",
      "294583          3.894670              0.0                     30.364727   \n",
      "294584          4.233342              0.0                     30.392145   \n",
      "294585         -1.550535              0.0                     30.418520   \n",
      "294586          9.001236              0.0                     30.452966   \n",
      "294587         11.937995              0.0                     30.500365   \n",
      "\n",
      "        lateral_acceleration  \n",
      "10433               0.000000  \n",
      "10434               0.000000  \n",
      "10435               0.000000  \n",
      "10436               0.000000  \n",
      "10437               0.000000  \n",
      "...                      ...  \n",
      "294583              3.302014  \n",
      "294584              0.338672  \n",
      "294585             -5.783877  \n",
      "294586             10.551771  \n",
      "294587              2.936759  \n",
      "\n",
      "[100000 rows x 4 columns]\n"
     ]
    }
   ],
   "source": [
    "# Preview the first 100,000 rows of the unknown dataset to check for a healthy shape\n",
    "print(unknown_data.head(100000))"
   ]
  },
  {
   "cell_type": "code",
   "execution_count": null,
   "metadata": {
    "colab": {
     "base_uri": "https://localhost:8080/"
    },
    "id": "B6nfe1S6Y2jg",
    "outputId": "29f1a548-9584-4a1a-c980-68eb3478af59"
   },
   "outputs": [
    {
     "data": {
      "text/plain": [
       "['y_test_XGB.pkl']"
      ]
     },
     "execution_count": 11,
     "metadata": {},
     "output_type": "execute_result"
    }
   ],
   "source": [
    "import joblib\n",
    "from sklearn.model_selection import train_test_split\n",
    "\n",
    "# Avoid unnecessary warnings by copying the datasets\n",
    "identified_data = identified_data.copy()\n",
    "unknown_data = unknown_data.copy()\n",
    "# Create target labels for identified (1) and unknown (0) datasets\n",
    "identified_data['target'] = 1\n",
    "unknown_data['target'] = 0\n",
    "# Combine the datasets\n",
    "combined_data = pd.concat([identified_data, unknown_data], ignore_index=True)\n",
    "# Handle missing values by filling with 0\n",
    "combined_data.fillna(0, inplace=True)\n",
    "# Split the data into features (X) and target (y)\n",
    "X = combined_data.drop('target', axis=1)\n",
    "y = combined_data['target']\n",
    "# Train-test split (80% training, 20% testing)\n",
    "X_train_rf, X_test_rf, y_train_rf, y_test_rf = train_test_split(X, y, test_size=0.2, random_state=42)\n",
    "# Save the test data for future use\n",
    "joblib.dump(X_test_rf, 'X_test_rf.pkl')\n",
    "joblib.dump(y_test_rf, 'y_test_rf.pkl')"
   ]
  },
  {
   "cell_type": "code",
   "execution_count": null,
   "metadata": {
    "colab": {
     "base_uri": "https://localhost:8080/"
    },
    "id": "uPPluVhdqi6W",
    "outputId": "9a3bda27-c30d-4ba7-e647-c07e5ab80e56"
   },
   "outputs": [
    {
     "name": "stdout",
     "output_type": "stream",
     "text": [
      "Training Accuracy is: 0.8370787288979771\n",
      "Test Accuracy is: 0.8193871453498099\n",
      "\n",
      "Classification Report for Test Data:\n",
      "               precision    recall  f1-score   support\n",
      "\n",
      "           0       0.81      0.84      0.83    213700\n",
      "           1       0.83      0.80      0.81    204670\n",
      "\n",
      "    accuracy                           0.82    418370\n",
      "   macro avg       0.82      0.82      0.82    418370\n",
      "weighted avg       0.82      0.82      0.82    418370\n",
      "\n"
     ]
    }
   ],
   "source": [
    "import xgboost as xgb\n",
    "from sklearn.metrics import accuracy_score, classification_report\n",
    "\n",
    "# Initialize the XGBoost classifier with the best parameters from previous tuning\n",
    "xgb_model = xgb.XGBClassifier(\n",
    "    n_estimators=200,\n",
    "    learning_rate=0.5,\n",
    "    objective='binary:logistic',\n",
    "    random_state=5,\n",
    "    subsample=1.0,\n",
    "    min_child_weight=7,\n",
    "    max_depth=9,\n",
    "    colsample_bytree=1.0\n",
    ")\n",
    "# Train the XGBoost model\n",
    "xgb_model.fit(X_train_rf, y_train_rf)\n",
    "# Make predictions on training and testing sets\n",
    "y_pred_train_xgb = xgb_model.predict(X_train_rf)\n",
    "y_pred_test_xgb = xgb_model.predict(X_test_rf)\n",
    "# Evaluate the model performance\n",
    "print(\"Training Accuracy:\", accuracy_score(y_train_rf, y_pred_train_xgb))\n",
    "print(\"Test Accuracy:\", accuracy_score(y_test_rf, y_pred_test_xgb))\n",
    "# Display the classification report for the test set\n",
    "print(\"\\nClassification Report for Test Data:\\n\", classification_report(y_test_rf, y_pred_test_xgb))"
   ]
  },
  {
   "cell_type": "code",
   "execution_count": null,
   "metadata": {
    "colab": {
     "base_uri": "https://localhost:8080/",
     "height": 472
    },
    "id": "tLLspcDwOAqe",
    "outputId": "763552f9-550c-4e9d-caab-66c38ae76463"
   },
   "outputs": [
    {
     "data": {
      "image/png": "[encoded data removed]",
      "text/plain": [
       "<Figure size 640x480 with 1 Axes>"
      ]
     },
     "metadata": {},
     "output_type": "display_data"
    }
   ],
   "source": [
    "import matplotlib.pyplot as plt\n",
    "import xgboost as xgb\n",
    "\n",
    "# Plot the feature importances from the trained XGBoost model\n",
    "xgb.plot_importance(xgb_model)\n",
    "plt.title(\"XGBoost Feature Importances\")\n",
    "plt.show()\n"
   ]
  },
  {
   "cell_type": "code",
   "execution_count": null,
   "metadata": {
    "colab": {
     "base_uri": "https://localhost:8080/",
     "height": 619
    },
    "id": "ElI_1cBom47f",
    "outputId": "f2961b32-fb31-4b14-db83-eaf6c829f8b6"
   },
   "outputs": [
    {
     "data": {
      "image/png": "[encoded data removed]",
      "text/plain": [
       "<Figure size 1000x700 with 2 Axes>"
      ]
     },
     "metadata": {},
     "output_type": "display_data"
    }
   ],
   "source": [
    "import numpy as np\n",
    "import matplotlib.pyplot as plt\n",
    "import seaborn as sns\n",
    "from sklearn.metrics import confusion_matrix\n",
    "\n",
    "# Generate the confusion matrix for the XGBoost model\n",
    "conf_matrix_xgb = confusion_matrix(y_test_rf, y_pred_test_xgb)\n",
    "\n",
    "# Plot the confusion matrix\n",
    "plt.figure(figsize=(10, 7))\n",
    "sns.heatmap(conf_matrix_xgb, annot=True, fmt='g', cmap='Blues', cbar=False)\n",
    "plt.title(\"Confusion Matrix for XGBoost Model\")\n",
    "plt.xlabel(\"Predicted Labels\")\n",
    "plt.ylabel(\"Actual Labels\")\n",
    "plt.show()"
   ]
  },
  {
   "cell_type": "code",
   "execution_count": null,
   "metadata": {
    "colab": {
     "base_uri": "https://localhost:8080/"
    },
    "id": "c9KdJzXynHVP",
    "outputId": "15623ff2-ba09-4774-8350-4cd1a56fec4c"
   },
   "outputs": [
    {
     "data": {
      "text/plain": [
       "['XGB_model.pkl']"
      ]
     },
     "execution_count": 37,
     "metadata": {},
     "output_type": "execute_result"
    }
   ],
   "source": [
    "import joblib  # Re-import in case the notebook was not run sequentially\n",
    "\n",
    "# Save the trained XGBoost model to a file (only run this if you want to save the model)\n",
    "joblib.dump(xgb_model, 'xgb_model.pkl')"
   ]
  },
  {
   "cell_type": "code",
   "execution_count": null,
   "metadata": {
    "colab": {
     "base_uri": "https://localhost:8080/",
     "height": 979
    },
    "id": "zaZN4toU6zVZ",
    "outputId": "f7a09920-aa91-484b-8553-44cad0850e27"
   },
   "outputs": [
    {
     "data": {
      "image/png": "[encoded data removed]",
      "text/plain": [
       "<Figure size 640x480 with 1 Axes>"
      ]
     },
     "metadata": {},
     "output_type": "display_data"
    },
    {
     "data": {
      "image/png": "[encoded data removed]",
      "text/plain": [
       "<Figure size 640x480 with 1 Axes>"
      ]
     },
     "metadata": {},
     "output_type": "display_data"
    },
    {
     "name": "stdout",
     "output_type": "stream",
     "text": [
      "Log Loss: 0.35417139164916356\n",
      "Cohen's Kappa is: 0.6383530062031644\n",
      "Matthews Correlation Coefficient is: 0.6386888547517873\n"
     ]
    }
   ],
   "source": [
    "import joblib  # Re-import in case the notebook was not run sequentially\n",
    "import matplotlib.pyplot as plt\n",
    "from sklearn.metrics import (\n",
    "    roc_curve, auc, precision_recall_curve,\n",
    "    average_precision_score, log_loss,\n",
    "    cohen_kappa_score, matthews_corrcoef\n",
    ")\n",
    "\n",
    "# Load the trained XGBoost model (if not already loaded)\n",
    "xgb_model = joblib.load('xgb_model.pkl')\n",
    "\n",
    "# Ensure that X_test and y_test are loaded; rerun previous cells if needed\n",
    "y_prob_xgb = xgb_model.predict_proba(X_test_rf)[:, 1]\n",
    "y_pred_xgb = xgb_model.predict(X_test_rf)\n",
    "\n",
    "# Plot Precision-Recall Curve\n",
    "precision, recall, _ = precision_recall_curve(y_test_rf, y_prob_xgb)\n",
    "average_precision = average_precision_score(y_test_rf, y_prob_xgb)\n",
    "\n",
    "plt.figure()\n",
    "plt.plot(recall, precision, label=f'PR Curve (AP = {average_precision:.2f})')\n",
    "plt.xlabel('Recall')\n",
    "plt.ylabel('Precision')\n",
    "plt.title('Precision-Recall Curve for XGBoost')\n",
    "plt.legend(loc='best')\n",
    "plt.show()\n",
    "\n",
    "# Plot ROC Curve\n",
    "fpr_xgb, tpr_xgb, _ = roc_curve(y_test_rf, y_prob_xgb)\n",
    "roc_auc_xgb = auc(fpr_xgb, tpr_xgb)\n",
    "\n",
    "plt.figure()\n",
    "plt.plot(fpr_xgb, tpr_xgb, label=f'ROC Curve (AUC = {roc_auc_xgb:.2f})')\n",
    "plt.xlabel('False Positive Rate')\n",
    "plt.ylabel('True Positive Rate')\n",
    "plt.title('ROC Curve for XGBoost')\n",
    "plt.legend(loc='best')\n",
    "plt.show()\n",
    "\n",
    "# Log Loss\n",
    "print(f\"Log Loss: {log_loss(y_test_rf, y_prob_xgb):.4f}\")\n",
    "\n",
    "# Cohen's Kappa Score\n",
    "kappa_xgb = cohen_kappa_score(y_test_rf, y_pred_xgb)\n",
    "print(f\"Cohen's Kappa: {kappa_xgb:.4f}\")\n",
    "\n",
    "# Matthews Correlation Coefficient\n",
    "mcc_xgb = matthews_corrcoef(y_test_rf, y_pred_xgb)\n",
    "print(f\"Matthews Correlation Coefficient: {mcc_xgb:.4f}\")\n"
   ]
  },
  {
   "cell_type": "code",
   "execution_count": null,
   "metadata": {
    "colab": {
     "base_uri": "https://localhost:8080/",
     "height": 80
    },
    "id": "zOkeZdjTluoJ",
    "outputId": "4ab6ace2-cd58-4149-8994-2f596d75036f"
   },
   "outputs": [
    {
     "name": "stderr",
     "output_type": "stream",
     "text": [
      "dot: graph is too large for cairo-renderer bitmaps. Scaling by 0.513936 to fit\n"
     ]
    },
    {
     "data": {
      "text/plain": [
       "<Figure size 2000x1500 with 0 Axes>"
      ]
     },
     "metadata": {},
     "output_type": "display_data"
    },
    {
     "data": {
      "image/png": "[encoded data removed]",
      "text/plain": [
       "<Figure size 640x480 with 1 Axes>"
      ]
     },
     "metadata": {},
     "output_type": "display_data"
    }
   ],
   "source": [
    "import xgboost as xgb\n",
    "import matplotlib.pyplot as plt\n",
    "\n",
    "# Plot the first tree from the trained XGBoost model\n",
    "plt.figure(figsize=(20, 15))  # Adjust the size as necessary\n",
    "xgb.plot_tree(xgb_model, num_trees=0, max_depth=3)\n",
    "plt.title(\"XGBoost Decision Tree Visualization\")\n",
    "plt.show()"
   ]
  },
  {
   "cell_type": "code",
   "execution_count": null,
   "metadata": {
    "id": "xiMrLZ8Anyf7"
   },
   "outputs": [],
   "source": []
  },
  {
   "cell_type": "code",
   "execution_count": null,
   "metadata": {
    "colab": {
     "base_uri": "https://localhost:8080/"
    },
    "id": "II4mc_TMyVZe",
    "outputId": "f5e5d6d8-38f6-454b-8225-23fbfc3484fc"
   },
   "outputs": [
    {
     "name": "stdout",
     "output_type": "stream",
     "text": [
      "Fitting 3 folds for each of 20 candidates, totalling 60 fits\n",
      "Best parameters found: {'subsample': 0.5, 'n_estimators': 50, 'min_child_weight': 5, 'max_depth': 9, 'learning_rate': 0.01, 'colsample_bytree': 0.5}\n",
      "Best precision score: 0.8454026994732814\n"
     ]
    }
   ],
   "source": [
    "from sklearn.model_selection import RandomizedSearchCV\n",
    "import xgboost as xgb\n",
    "\n",
    "# Define the parameter grid for deeper hyperparameter search\n",
    "param_dist = {\n",
    "    'n_estimators': [50, 100, 200, 300, 400, 500, 1000],  # Expanded search space\n",
    "    'learning_rate': [0.01, 0.05, 0.1, 0.3, 0.5],\n",
    "    'max_depth': [3, 5, 7, 9, 11],\n",
    "    'min_child_weight': [1, 3, 5, 7, 9, 11],\n",
    "    'subsample': [0.5, 0.6, 0.7, 0.8, 1.0],\n",
    "    'colsample_bytree': [0.4, 0.5, 0.6, 0.7, 0.8, 1.0]\n",
    "}\n",
    "\n",
    "# Initialize the XGBoost classifier\n",
    "xgb_model = xgb.XGBClassifier(\n",
    "    n_estimators=100,\n",
    "    learning_rate=0.1,\n",
    "    objective='binary:logistic',\n",
    "    random_state=5\n",
    ")\n",
    "\n",
    "# Set up RandomizedSearchCV with an increased number of iterations for deeper search\n",
    "random_search = RandomizedSearchCV(\n",
    "    estimator=xgb_model,\n",
    "    param_distributions=param_dist,\n",
    "    n_iter=50,  # Increased iterations for a deeper search\n",
    "    scoring='precision',\n",
    "    n_jobs=-1,\n",
    "    cv=5,  # Increased cross-validation folds\n",
    "    verbose=3,\n",
    "    random_state=5\n",
    ")\n",
    "\n",
    "# Perform the randomized search\n",
    "random_search.fit(X_train_rf, y_train_rf)\n",
    "\n",
    "# Display the best parameters and best score\n",
    "print(f\"Best parameters found: {random_search.best_params_}\")\n",
    "print(f\"Best precision score: {random_search.best_score_:.4f}\")"
   ]
  }
 ],
 "metadata": {
  "colab": {
   "provenance": []
  },
  "kernelspec": {
   "display_name": "Python 3 (ipykernel)",
   "language": "python",
   "name": "python3"
  },
  "language_info": {
   "codemirror_mode": {
    "name": "ipython",
    "version": 3
   },
   "file_extension": ".py",
   "mimetype": "text/x-python",
   "name": "python",
   "nbconvert_exporter": "python",
   "pygments_lexer": "ipython3",
   "version": "3.12.3"
  }
 },
 "nbformat": 4,
 "nbformat_minor": 4
}
